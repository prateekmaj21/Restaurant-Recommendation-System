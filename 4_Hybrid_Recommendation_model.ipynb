{
 "cells": [
  {
   "cell_type": "markdown",
   "metadata": {
    "colab": {
     "base_uri": "https://localhost:8080/"
    },
    "id": "vgZepgdxGq7P",
    "outputId": "f88496df-0eb2-4566-fc74-2243172156cd"
   },
   "source": [
    "# Hybrid Method"
   ]
  },
  {
   "cell_type": "code",
   "execution_count": 1,
   "metadata": {},
   "outputs": [],
   "source": [
    "import pandas as pd\n",
    "from sklearn.feature_extraction.text import TfidfVectorizer\n",
    "from sklearn.metrics.pairwise import cosine_similarity\n",
    "from surprise import Dataset, Reader, SVD, accuracy\n",
    "from surprise.model_selection import train_test_split as surprise_split"
   ]
  },
  {
   "cell_type": "markdown",
   "metadata": {},
   "source": [
    "## Load Data"
   ]
  },
  {
   "cell_type": "code",
   "execution_count": 2,
   "metadata": {
    "id": "ICqgRfL8Guaq"
   },
   "outputs": [],
   "source": [
    "# Step 1: Load Datasets\n",
    "restaurant_data = pd.read_csv(\"BangaloreZomatoData_with_rest_id.csv\")\n",
    "user_data = pd.read_csv(\"UserOrdersData.csv\")"
   ]
  },
  {
   "cell_type": "code",
   "execution_count": 3,
   "metadata": {
    "colab": {
     "base_uri": "https://localhost:8080/"
    },
    "id": "O-fxWNDeHYso",
    "outputId": "cc17071e-ae30-4e10-b228-7a68fc7442b3"
   },
   "outputs": [
    {
     "name": "stdout",
     "output_type": "stream",
     "text": [
      "Restaurant Data Columns: Index(['Name', 'URL', 'Cuisines', 'Area', 'Timing', 'Full_Address',\n",
      "       'PhoneNumber', 'IsHomeDelivery', 'isTakeaway', 'isIndoorSeating',\n",
      "       'isVegOnly', 'Dinner Ratings', 'Dinner Reviews', 'Delivery Ratings',\n",
      "       'Delivery Reviews', 'KnownFor', 'PopularDishes', 'PeopleKnownFor',\n",
      "       'AverageCost', 'rest_id'],\n",
      "      dtype='object')\n",
      "User Data Columns: Index(['user_id', 'rest_id', 'cost', 'rating', 'location'], dtype='object')\n"
     ]
    }
   ],
   "source": [
    "# Inspect Datasets\n",
    "print(\"Restaurant Data Columns:\", restaurant_data.columns)\n",
    "print(\"User Data Columns:\", user_data.columns)\n"
   ]
  },
  {
   "cell_type": "code",
   "execution_count": 4,
   "metadata": {},
   "outputs": [
    {
     "data": {
      "text/html": [
       "<div>\n",
       "<style scoped>\n",
       "    .dataframe tbody tr th:only-of-type {\n",
       "        vertical-align: middle;\n",
       "    }\n",
       "\n",
       "    .dataframe tbody tr th {\n",
       "        vertical-align: top;\n",
       "    }\n",
       "\n",
       "    .dataframe thead th {\n",
       "        text-align: right;\n",
       "    }\n",
       "</style>\n",
       "<table border=\"1\" class=\"dataframe\">\n",
       "  <thead>\n",
       "    <tr style=\"text-align: right;\">\n",
       "      <th></th>\n",
       "      <th>Name</th>\n",
       "      <th>URL</th>\n",
       "      <th>Cuisines</th>\n",
       "      <th>Area</th>\n",
       "      <th>Timing</th>\n",
       "      <th>Full_Address</th>\n",
       "      <th>PhoneNumber</th>\n",
       "      <th>IsHomeDelivery</th>\n",
       "      <th>isTakeaway</th>\n",
       "      <th>isIndoorSeating</th>\n",
       "      <th>isVegOnly</th>\n",
       "      <th>Dinner Ratings</th>\n",
       "      <th>Dinner Reviews</th>\n",
       "      <th>Delivery Ratings</th>\n",
       "      <th>Delivery Reviews</th>\n",
       "      <th>KnownFor</th>\n",
       "      <th>PopularDishes</th>\n",
       "      <th>PeopleKnownFor</th>\n",
       "      <th>AverageCost</th>\n",
       "      <th>rest_id</th>\n",
       "    </tr>\n",
       "  </thead>\n",
       "  <tbody>\n",
       "    <tr>\n",
       "      <th>0</th>\n",
       "      <td>Sri Udupi Park</td>\n",
       "      <td>https://www.zomato.com/bangalore/sri-udupi-par...</td>\n",
       "      <td>South Indian, North Indian, Chinese, Street Fo...</td>\n",
       "      <td>Indiranagar, Bangalore</td>\n",
       "      <td>7am – 11pm (Today)</td>\n",
       "      <td>273, Monalisa, 6th Main, 100 Feet Road, Indira...</td>\n",
       "      <td>+919945977774</td>\n",
       "      <td>1</td>\n",
       "      <td>1</td>\n",
       "      <td>1</td>\n",
       "      <td>1</td>\n",
       "      <td>4.0</td>\n",
       "      <td>462</td>\n",
       "      <td>4.1</td>\n",
       "      <td>16000</td>\n",
       "      <td>NaN</td>\n",
       "      <td>Filtered Coffee, Sambhar, Pav Bhaji, Gobi Manc...</td>\n",
       "      <td>Economical, Prompt Service, Hygiene, Quality F...</td>\n",
       "      <td>450</td>\n",
       "      <td>R0001</td>\n",
       "    </tr>\n",
       "    <tr>\n",
       "      <th>1</th>\n",
       "      <td>Meghana Foods</td>\n",
       "      <td>https://www.zomato.com/bangalore/meghana-foods...</td>\n",
       "      <td>Biryani, Andhra, North Indian, Seafood</td>\n",
       "      <td>Indiranagar, Bangalore</td>\n",
       "      <td>Opens at 6:30pm</td>\n",
       "      <td>544, First Floor, CMH Road, Near Indiranagar M...</td>\n",
       "      <td>+918041135050</td>\n",
       "      <td>1</td>\n",
       "      <td>1</td>\n",
       "      <td>1</td>\n",
       "      <td>0</td>\n",
       "      <td>4.3</td>\n",
       "      <td>1654</td>\n",
       "      <td>4.3</td>\n",
       "      <td>28600</td>\n",
       "      <td>Spicy Chicken Biryani</td>\n",
       "      <td>Authentic Hyderabadi Biryani, Paneer Biryani, ...</td>\n",
       "      <td>Boneless Chicken Biryani, Ample Seating Area, ...</td>\n",
       "      <td>700</td>\n",
       "      <td>R0002</td>\n",
       "    </tr>\n",
       "  </tbody>\n",
       "</table>\n",
       "</div>"
      ],
      "text/plain": [
       "             Name                                                URL  \\\n",
       "0  Sri Udupi Park  https://www.zomato.com/bangalore/sri-udupi-par...   \n",
       "1   Meghana Foods  https://www.zomato.com/bangalore/meghana-foods...   \n",
       "\n",
       "                                            Cuisines                    Area  \\\n",
       "0  South Indian, North Indian, Chinese, Street Fo...  Indiranagar, Bangalore   \n",
       "1             Biryani, Andhra, North Indian, Seafood  Indiranagar, Bangalore   \n",
       "\n",
       "               Timing                                       Full_Address  \\\n",
       "0  7am – 11pm (Today)  273, Monalisa, 6th Main, 100 Feet Road, Indira...   \n",
       "1     Opens at 6:30pm  544, First Floor, CMH Road, Near Indiranagar M...   \n",
       "\n",
       "     PhoneNumber  IsHomeDelivery  isTakeaway  isIndoorSeating  isVegOnly  \\\n",
       "0  +919945977774               1           1                1          1   \n",
       "1  +918041135050               1           1                1          0   \n",
       "\n",
       "  Dinner Ratings  Dinner Reviews Delivery Ratings  Delivery Reviews  \\\n",
       "0            4.0             462              4.1             16000   \n",
       "1            4.3            1654              4.3             28600   \n",
       "\n",
       "                KnownFor                                      PopularDishes  \\\n",
       "0                    NaN  Filtered Coffee, Sambhar, Pav Bhaji, Gobi Manc...   \n",
       "1  Spicy Chicken Biryani  Authentic Hyderabadi Biryani, Paneer Biryani, ...   \n",
       "\n",
       "                                      PeopleKnownFor  AverageCost rest_id  \n",
       "0  Economical, Prompt Service, Hygiene, Quality F...          450   R0001  \n",
       "1  Boneless Chicken Biryani, Ample Seating Area, ...          700   R0002  "
      ]
     },
     "execution_count": 4,
     "metadata": {},
     "output_type": "execute_result"
    }
   ],
   "source": [
    "restaurant_data.head(2)"
   ]
  },
  {
   "cell_type": "code",
   "execution_count": 5,
   "metadata": {},
   "outputs": [
    {
     "data": {
      "text/html": [
       "<div>\n",
       "<style scoped>\n",
       "    .dataframe tbody tr th:only-of-type {\n",
       "        vertical-align: middle;\n",
       "    }\n",
       "\n",
       "    .dataframe tbody tr th {\n",
       "        vertical-align: top;\n",
       "    }\n",
       "\n",
       "    .dataframe thead th {\n",
       "        text-align: right;\n",
       "    }\n",
       "</style>\n",
       "<table border=\"1\" class=\"dataframe\">\n",
       "  <thead>\n",
       "    <tr style=\"text-align: right;\">\n",
       "      <th></th>\n",
       "      <th>user_id</th>\n",
       "      <th>rest_id</th>\n",
       "      <th>cost</th>\n",
       "      <th>rating</th>\n",
       "      <th>location</th>\n",
       "    </tr>\n",
       "  </thead>\n",
       "  <tbody>\n",
       "    <tr>\n",
       "      <th>0</th>\n",
       "      <td>U0350</td>\n",
       "      <td>R6892</td>\n",
       "      <td>1000</td>\n",
       "      <td>4</td>\n",
       "      <td>Electronic City, Bangalore</td>\n",
       "    </tr>\n",
       "    <tr>\n",
       "      <th>1</th>\n",
       "      <td>U0825</td>\n",
       "      <td>R7304</td>\n",
       "      <td>800</td>\n",
       "      <td>2</td>\n",
       "      <td>JP Nagar, Bangalore</td>\n",
       "    </tr>\n",
       "  </tbody>\n",
       "</table>\n",
       "</div>"
      ],
      "text/plain": [
       "  user_id rest_id  cost  rating                    location\n",
       "0   U0350   R6892  1000       4  Electronic City, Bangalore\n",
       "1   U0825   R7304   800       2         JP Nagar, Bangalore"
      ]
     },
     "execution_count": 5,
     "metadata": {},
     "output_type": "execute_result"
    }
   ],
   "source": [
    "user_data.head(2)"
   ]
  },
  {
   "cell_type": "code",
   "execution_count": 6,
   "metadata": {
    "id": "xuwYZrxmHbvL"
   },
   "outputs": [],
   "source": [
    "# Preprocess Restaurant Data\n",
    "restaurant_data['Cuisines'] = restaurant_data['Cuisines'].fillna('Unknown')\n",
    "restaurant_data['KnownFor']= restaurant_data['KnownFor'].fillna('Unknown')"
   ]
  },
  {
   "cell_type": "markdown",
   "metadata": {},
   "source": [
    "## Content-Based Filtering"
   ]
  },
  {
   "cell_type": "code",
   "execution_count": 7,
   "metadata": {
    "id": "jW5f6LRbHerj"
   },
   "outputs": [],
   "source": [
    "# Step 2: Content-Based Filtering\n",
    "# Combine relevant features\n",
    "restaurant_data['CombinedFeatures'] = restaurant_data['Cuisines'] + \" \" + restaurant_data['KnownFor']"
   ]
  },
  {
   "cell_type": "code",
   "execution_count": 8,
   "metadata": {
    "id": "BXgVRp2CHj22"
   },
   "outputs": [],
   "source": [
    "# Vectorize features\n",
    "vectorizer = TfidfVectorizer(stop_words='english')\n",
    "feature_matrix = vectorizer.fit_transform(restaurant_data['CombinedFeatures'])"
   ]
  },
  {
   "cell_type": "code",
   "execution_count": 9,
   "metadata": {
    "id": "U6gs8tt8Hm2r"
   },
   "outputs": [],
   "source": [
    "# Compute similarity matrix\n",
    "similarity_matrix = cosine_similarity(feature_matrix)"
   ]
  },
  {
   "cell_type": "code",
   "execution_count": 10,
   "metadata": {
    "id": "h-al1UQaHpsC"
   },
   "outputs": [],
   "source": [
    "# Function to shortlist restaurants\n",
    "def get_similar_restaurants(rest_id, top_n=10):\n",
    "    idx = restaurant_data[restaurant_data['rest_id'] == rest_id].index[0]\n",
    "    similar_indices = similarity_matrix[idx].argsort()[::-1][1:top_n + 1]\n",
    "    return restaurant_data.iloc[similar_indices]['rest_id'].tolist()"
   ]
  },
  {
   "cell_type": "markdown",
   "metadata": {},
   "source": [
    "## Collaborative Filtering"
   ]
  },
  {
   "cell_type": "code",
   "execution_count": 11,
   "metadata": {
    "id": "bY1OajfSHrwu"
   },
   "outputs": [],
   "source": [
    "# Step 3: Collaborative Filtering\n",
    "# Prepare user-item interaction data for Surprise\n",
    "reader = Reader(rating_scale=(1, 5))  # Adjust rating scale as needed\n",
    "interaction_data = Dataset.load_from_df(user_data[['user_id', 'rest_id', 'rating']], reader)\n",
    "trainset, testset = surprise_split(interaction_data, test_size=0.2, random_state=42)"
   ]
  },
  {
   "cell_type": "code",
   "execution_count": 12,
   "metadata": {
    "colab": {
     "base_uri": "https://localhost:8080/"
    },
    "id": "xfiaN8nbHui1",
    "outputId": "f2f4619a-42b6-45f6-feeb-c0787bbafacd"
   },
   "outputs": [
    {
     "data": {
      "text/plain": [
       "<surprise.prediction_algorithms.matrix_factorization.SVD at 0x155cc690ce0>"
      ]
     },
     "execution_count": 12,
     "metadata": {},
     "output_type": "execute_result"
    }
   ],
   "source": [
    "# Train SVD model\n",
    "svd_model = SVD()\n",
    "svd_model.fit(trainset)"
   ]
  },
  {
   "cell_type": "code",
   "execution_count": 13,
   "metadata": {
    "id": "Sxw1USuuH39h"
   },
   "outputs": [],
   "source": [
    "# Function to rank restaurants for a user\n",
    "def rank_restaurants(user_id, shortlisted_restaurants):\n",
    "    predictions = [svd_model.predict(user_id, rest_id) for rest_id in shortlisted_restaurants]\n",
    "    ranked = sorted(predictions, key=lambda x: x.est, reverse=True)\n",
    "    return [pred.iid for pred in ranked]"
   ]
  },
  {
   "cell_type": "markdown",
   "metadata": {},
   "source": [
    "## Recommendation"
   ]
  },
  {
   "cell_type": "code",
   "execution_count": 14,
   "metadata": {
    "colab": {
     "base_uri": "https://localhost:8080/",
     "height": 380
    },
    "id": "VXszmKUWRzXG",
    "outputId": "d88717a3-331a-45ee-eb29-b0b6cc2d9f07"
   },
   "outputs": [],
   "source": [
    "def recommend_restaurants(user_id, rest_id, top_n=5):\n",
    "    # Step 4.1: Content-Based Filtering\n",
    "    shortlisted = get_similar_restaurants(rest_id, top_n)\n",
    "    # Step 4.2: Collaborative Filtering\n",
    "    ranked = rank_restaurants(user_id, shortlisted)\n",
    "\n",
    "    # Get additional restaurant information\n",
    "    recommended_restaurants = restaurant_data[restaurant_data['rest_id'].isin(ranked)]\n",
    "\n",
    "\n",
    "\n",
    "    #Create a dictionary to store the results\n",
    "    results = []\n",
    "    for rest_id_rec in ranked:\n",
    "        restaurant_info = restaurant_data[restaurant_data['rest_id']==rest_id_rec]\n",
    "        if not restaurant_info.empty:\n",
    "            restaurant_name = restaurant_info['Name'].iloc[0]\n",
    "            price = restaurant_info['AverageCost'].iloc[0]\n",
    "            cuisines = restaurant_info['Cuisines'].iloc[0]\n",
    "            results.append({'rest_id': rest_id_rec, 'RestaurantName': restaurant_name, 'price': price, 'cuisines': cuisines })\n",
    "        else:\n",
    "            results.append({'rest_id': rest_id_rec, 'RestaurantName': 'Not found', 'price': 'Not found', 'cuisines': 'Not found'})\n",
    "\n",
    "    # Convert the results list to a DataFrame\n",
    "    df_results = pd.DataFrame(results)\n",
    "\n",
    "    #Get user's previous restaurant\n",
    "    user_prev_rest = user_data[user_data['user_id']==user_id]['rest_id'].tolist()\n",
    "    #Print the previous restaurants of the user\n",
    "    print(\"Previous Restaurants of user\", user_id,\":\",user_prev_rest)\n",
    "\n",
    "    return df_results\n",
    "\n",
    "\n",
    "# Ranked name in collaborative filtering is 'rest_id' as used in the rank_restaurants function."
   ]
  },
  {
   "cell_type": "markdown",
   "metadata": {},
   "source": [
    "## System Testing"
   ]
  },
  {
   "cell_type": "code",
   "execution_count": 15,
   "metadata": {
    "id": "S-z-XvY8VfMN"
   },
   "outputs": [],
   "source": [
    "# Example usage (replace with your actual user_id and rest_id)\n",
    "user_id = 'U0851'"
   ]
  },
  {
   "cell_type": "code",
   "execution_count": 16,
   "metadata": {},
   "outputs": [
    {
     "name": "stdout",
     "output_type": "stream",
     "text": [
      "Past orders for user U0851:\n",
      "- Restaurant ID: R2908, Cuisine: South Indian, North Indian, Chinese, Street Food, Shake\n",
      "- Restaurant ID: R4015, Cuisine: Beverages, Salad, Healthy Food, Shake\n",
      "- Restaurant ID: R2093, Cuisine: Fast Food\n"
     ]
    }
   ],
   "source": [
    "# Display past orders and cuisines\n",
    "past_orders = user_data[user_data['user_id'] == user_id]\n",
    "if not past_orders.empty:\n",
    "    print(f\"Past orders for user {user_id}:\")\n",
    "    for index, row in past_orders.iterrows():\n",
    "        restaurant_info = restaurant_data[restaurant_data['rest_id'] == row['rest_id']]\n",
    "        if not restaurant_info.empty:\n",
    "          cuisine = restaurant_info['Cuisines'].iloc[0]\n",
    "          print(f\"- Restaurant ID: {row['rest_id']}, Cuisine: {cuisine}\")\n",
    "        else:\n",
    "          print(f\"- Restaurant ID: {row['rest_id']}, Cuisine information not found.\")\n",
    "else:\n",
    "    print(f\"No past orders found for user {user_id}\")"
   ]
  },
  {
   "cell_type": "code",
   "execution_count": 17,
   "metadata": {},
   "outputs": [],
   "source": [
    "rest_id = 'R4015'"
   ]
  },
  {
   "cell_type": "code",
   "execution_count": 18,
   "metadata": {},
   "outputs": [
    {
     "name": "stdout",
     "output_type": "stream",
     "text": [
      "Previous Restaurants of user U0851 : ['R2908', 'R4015', 'R2093']\n"
     ]
    }
   ],
   "source": [
    "recommendations_df = recommend_restaurants(user_id, rest_id)"
   ]
  },
  {
   "cell_type": "code",
   "execution_count": 19,
   "metadata": {},
   "outputs": [
    {
     "data": {
      "text/html": [
       "<div>\n",
       "<style scoped>\n",
       "    .dataframe tbody tr th:only-of-type {\n",
       "        vertical-align: middle;\n",
       "    }\n",
       "\n",
       "    .dataframe tbody tr th {\n",
       "        vertical-align: top;\n",
       "    }\n",
       "\n",
       "    .dataframe thead th {\n",
       "        text-align: right;\n",
       "    }\n",
       "</style>\n",
       "<table border=\"1\" class=\"dataframe\">\n",
       "  <thead>\n",
       "    <tr style=\"text-align: right;\">\n",
       "      <th></th>\n",
       "      <th>rest_id</th>\n",
       "      <th>RestaurantName</th>\n",
       "      <th>price</th>\n",
       "      <th>cuisines</th>\n",
       "    </tr>\n",
       "  </thead>\n",
       "  <tbody>\n",
       "    <tr>\n",
       "      <th>0</th>\n",
       "      <td>R1067</td>\n",
       "      <td>Nutrivores</td>\n",
       "      <td>150</td>\n",
       "      <td>Healthy Food, Salad</td>\n",
       "    </tr>\n",
       "    <tr>\n",
       "      <th>1</th>\n",
       "      <td>R2600</td>\n",
       "      <td>O4H - Order For Health</td>\n",
       "      <td>250</td>\n",
       "      <td>Healthy Food, Salad, Beverages</td>\n",
       "    </tr>\n",
       "    <tr>\n",
       "      <th>2</th>\n",
       "      <td>R0255</td>\n",
       "      <td>The Salad Studio</td>\n",
       "      <td>400</td>\n",
       "      <td>Salad, Healthy Food</td>\n",
       "    </tr>\n",
       "    <tr>\n",
       "      <th>3</th>\n",
       "      <td>R2425</td>\n",
       "      <td>Garden Fresh</td>\n",
       "      <td>200</td>\n",
       "      <td>Juices, Healthy Food, Salad, Beverages, Shake</td>\n",
       "    </tr>\n",
       "    <tr>\n",
       "      <th>4</th>\n",
       "      <td>R3522</td>\n",
       "      <td>The Salad Studio</td>\n",
       "      <td>250</td>\n",
       "      <td>Salad, Healthy Food</td>\n",
       "    </tr>\n",
       "  </tbody>\n",
       "</table>\n",
       "</div>"
      ],
      "text/plain": [
       "  rest_id          RestaurantName  price  \\\n",
       "0   R1067              Nutrivores    150   \n",
       "1   R2600  O4H - Order For Health    250   \n",
       "2   R0255        The Salad Studio    400   \n",
       "3   R2425            Garden Fresh    200   \n",
       "4   R3522        The Salad Studio    250   \n",
       "\n",
       "                                        cuisines  \n",
       "0                            Healthy Food, Salad  \n",
       "1                 Healthy Food, Salad, Beverages  \n",
       "2                            Salad, Healthy Food  \n",
       "3  Juices, Healthy Food, Salad, Beverages, Shake  \n",
       "4                            Salad, Healthy Food  "
      ]
     },
     "execution_count": 19,
     "metadata": {},
     "output_type": "execute_result"
    }
   ],
   "source": [
    "recommendations_df"
   ]
  },
  {
   "cell_type": "code",
   "execution_count": 20,
   "metadata": {},
   "outputs": [
    {
     "name": "stdout",
     "output_type": "stream",
     "text": [
      "[['R1067' 'Nutrivores' 150 'Healthy Food, Salad']\n",
      " ['R2600' 'O4H - Order For Health' 250 'Healthy Food, Salad, Beverages']\n",
      " ['R0255' 'The Salad Studio' 400 'Salad, Healthy Food']\n",
      " ['R2425' 'Garden Fresh' 200\n",
      "  'Juices, Healthy Food, Salad, Beverages, Shake']\n",
      " ['R3522' 'The Salad Studio' 250 'Salad, Healthy Food']]\n"
     ]
    }
   ],
   "source": [
    "print(recommendations_df.values)"
   ]
  }
 ],
 "metadata": {
  "colab": {
   "provenance": []
  },
  "kernelspec": {
   "display_name": "Python 3 (ipykernel)",
   "language": "python",
   "name": "python3"
  },
  "language_info": {
   "codemirror_mode": {
    "name": "ipython",
    "version": 3
   },
   "file_extension": ".py",
   "mimetype": "text/x-python",
   "name": "python",
   "nbconvert_exporter": "python",
   "pygments_lexer": "ipython3",
   "version": "3.12.7"
  }
 },
 "nbformat": 4,
 "nbformat_minor": 4
}
